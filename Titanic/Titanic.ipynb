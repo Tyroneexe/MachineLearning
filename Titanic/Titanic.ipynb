{
 "cells": [
  {
   "cell_type": "code",
   "execution_count": 32,
   "metadata": {},
   "outputs": [],
   "source": [
    "import pandas as pd\n",
    "import numpy as np\n",
    "\n",
    "import matplotlib\n",
    "import matplotlib.pyplot as plt\n",
    "from pandas.plotting import scatter_matrix\n",
    "%matplotlib inline\n",
    "\n",
    "import seaborn as sns\n",
    "sns.set(style=\"white\", color_codes =True)\n",
    "sns.set(font_scale=1.5)\n",
    "\n",
    "from sklearn.linear_model import LogisticRegression\n",
    "from sklearn.model_selection import train_test_split\n",
    "\n",
    "from sklearn.metrics import confusion_matrix\n",
    "from sklearn.metrics import classification_report\n",
    "from sklearn.metrics import accuracy_score\n",
    "from sklearn.metrics import precision_score\n",
    "from sklearn.metrics import recall_score\n",
    "from sklearn.metrics import f1_score\n",
    "from sklearn import metrics"
   ]
  },
  {
   "cell_type": "code",
   "execution_count": 33,
   "metadata": {},
   "outputs": [
    {
     "data": {
      "text/plain": [
       "(891, 12)"
      ]
     },
     "execution_count": 33,
     "metadata": {},
     "output_type": "execute_result"
    }
   ],
   "source": [
    "df_train = pd.read_csv(\"train.csv\")\n",
    "df_train.shape"
   ]
  },
  {
   "cell_type": "code",
   "execution_count": 34,
   "metadata": {},
   "outputs": [
    {
     "data": {
      "text/plain": [
       "Survived\n",
       "0    549\n",
       "1    342\n",
       "Name: count, dtype: int64"
      ]
     },
     "execution_count": 34,
     "metadata": {},
     "output_type": "execute_result"
    }
   ],
   "source": [
    "df_train.Survived.value_counts()"
   ]
  },
  {
   "cell_type": "code",
   "execution_count": 35,
   "metadata": {},
   "outputs": [
    {
     "data": {
      "text/plain": [
       "Sex\n",
       "male      577\n",
       "female    314\n",
       "Name: count, dtype: int64"
      ]
     },
     "execution_count": 35,
     "metadata": {},
     "output_type": "execute_result"
    }
   ],
   "source": [
    "df_train.Sex.value_counts()"
   ]
  },
  {
   "cell_type": "code",
   "execution_count": 36,
   "metadata": {},
   "outputs": [
    {
     "data": {
      "text/plain": [
       "Embarked\n",
       "S    644\n",
       "C    168\n",
       "Q     77\n",
       "Name: count, dtype: int64"
      ]
     },
     "execution_count": 36,
     "metadata": {},
     "output_type": "execute_result"
    }
   ],
   "source": [
    "df_train.Embarked.value_counts()"
   ]
  },
  {
   "cell_type": "code",
   "execution_count": 37,
   "metadata": {},
   "outputs": [
    {
     "data": {
      "text/plain": [
       "PassengerId      0\n",
       "Survived         0\n",
       "Pclass           0\n",
       "Name             0\n",
       "Sex              0\n",
       "Age            177\n",
       "SibSp            0\n",
       "Parch            0\n",
       "Ticket           0\n",
       "Fare             0\n",
       "Cabin          687\n",
       "Embarked         2\n",
       "dtype: int64"
      ]
     },
     "execution_count": 37,
     "metadata": {},
     "output_type": "execute_result"
    }
   ],
   "source": [
    "df_train.isnull().sum()"
   ]
  },
  {
   "cell_type": "code",
   "execution_count": 38,
   "metadata": {},
   "outputs": [
    {
     "data": {
      "text/plain": [
       "(891, 12)"
      ]
     },
     "execution_count": 38,
     "metadata": {},
     "output_type": "execute_result"
    }
   ],
   "source": [
    "df_train.shape"
   ]
  },
  {
   "cell_type": "code",
   "execution_count": 39,
   "metadata": {},
   "outputs": [
    {
     "data": {
      "text/html": [
       "<div>\n",
       "<style scoped>\n",
       "    .dataframe tbody tr th:only-of-type {\n",
       "        vertical-align: middle;\n",
       "    }\n",
       "\n",
       "    .dataframe tbody tr th {\n",
       "        vertical-align: top;\n",
       "    }\n",
       "\n",
       "    .dataframe thead th {\n",
       "        text-align: right;\n",
       "    }\n",
       "</style>\n",
       "<table border=\"1\" class=\"dataframe\">\n",
       "  <thead>\n",
       "    <tr style=\"text-align: right;\">\n",
       "      <th></th>\n",
       "      <th>Survived</th>\n",
       "      <th>Pclass</th>\n",
       "      <th>Sex</th>\n",
       "      <th>Age</th>\n",
       "      <th>SibSp</th>\n",
       "      <th>Parch</th>\n",
       "      <th>Fare</th>\n",
       "      <th>Embarked</th>\n",
       "    </tr>\n",
       "  </thead>\n",
       "  <tbody>\n",
       "    <tr>\n",
       "      <th>0</th>\n",
       "      <td>0</td>\n",
       "      <td>3</td>\n",
       "      <td>male</td>\n",
       "      <td>22.0</td>\n",
       "      <td>1</td>\n",
       "      <td>0</td>\n",
       "      <td>7.2500</td>\n",
       "      <td>S</td>\n",
       "    </tr>\n",
       "    <tr>\n",
       "      <th>1</th>\n",
       "      <td>1</td>\n",
       "      <td>1</td>\n",
       "      <td>female</td>\n",
       "      <td>38.0</td>\n",
       "      <td>1</td>\n",
       "      <td>0</td>\n",
       "      <td>71.2833</td>\n",
       "      <td>C</td>\n",
       "    </tr>\n",
       "    <tr>\n",
       "      <th>2</th>\n",
       "      <td>1</td>\n",
       "      <td>3</td>\n",
       "      <td>female</td>\n",
       "      <td>26.0</td>\n",
       "      <td>0</td>\n",
       "      <td>0</td>\n",
       "      <td>7.9250</td>\n",
       "      <td>S</td>\n",
       "    </tr>\n",
       "    <tr>\n",
       "      <th>3</th>\n",
       "      <td>1</td>\n",
       "      <td>1</td>\n",
       "      <td>female</td>\n",
       "      <td>35.0</td>\n",
       "      <td>1</td>\n",
       "      <td>0</td>\n",
       "      <td>53.1000</td>\n",
       "      <td>S</td>\n",
       "    </tr>\n",
       "    <tr>\n",
       "      <th>4</th>\n",
       "      <td>0</td>\n",
       "      <td>3</td>\n",
       "      <td>male</td>\n",
       "      <td>35.0</td>\n",
       "      <td>0</td>\n",
       "      <td>0</td>\n",
       "      <td>8.0500</td>\n",
       "      <td>S</td>\n",
       "    </tr>\n",
       "  </tbody>\n",
       "</table>\n",
       "</div>"
      ],
      "text/plain": [
       "   Survived  Pclass     Sex   Age  SibSp  Parch     Fare Embarked\n",
       "0         0       3    male  22.0      1      0   7.2500        S\n",
       "1         1       1  female  38.0      1      0  71.2833        C\n",
       "2         1       3  female  26.0      0      0   7.9250        S\n",
       "3         1       1  female  35.0      1      0  53.1000        S\n",
       "4         0       3    male  35.0      0      0   8.0500        S"
      ]
     },
     "execution_count": 39,
     "metadata": {},
     "output_type": "execute_result"
    }
   ],
   "source": [
    "df_train = df_train.drop(['PassengerId','Name','Ticket','Cabin'],axis=1)\n",
    "df_train.head()"
   ]
  },
  {
   "cell_type": "code",
   "execution_count": 40,
   "metadata": {},
   "outputs": [],
   "source": [
    "def age_approx(cols):\n",
    "    Age    = cols[0]\n",
    "    Pclass = cols[1]\n",
    "    \n",
    "    if pd.isnull(Age):\n",
    "        if Pclass == 1:\n",
    "            return 37\n",
    "        elif Pclass == 2:\n",
    "            return 29\n",
    "        else:\n",
    "            return 24\n",
    "    else:\n",
    "        return Age"
   ]
  },
  {
   "cell_type": "code",
   "execution_count": 41,
   "metadata": {},
   "outputs": [],
   "source": [
    "# df_train.groupby(['Pclass']).mean()"
   ]
  },
  {
   "cell_type": "code",
   "execution_count": 42,
   "metadata": {},
   "outputs": [
    {
     "name": "stderr",
     "output_type": "stream",
     "text": [
      "C:\\Users\\tvzbo\\AppData\\Local\\Temp\\ipykernel_9632\\3625854968.py:2: FutureWarning: Series.__getitem__ treating keys as positions is deprecated. In a future version, integer keys will always be treated as labels (consistent with DataFrame behavior). To access a value by position, use `ser.iloc[pos]`\n",
      "  Age    = cols[0]\n",
      "C:\\Users\\tvzbo\\AppData\\Local\\Temp\\ipykernel_9632\\3625854968.py:3: FutureWarning: Series.__getitem__ treating keys as positions is deprecated. In a future version, integer keys will always be treated as labels (consistent with DataFrame behavior). To access a value by position, use `ser.iloc[pos]`\n",
      "  Pclass = cols[1]\n"
     ]
    }
   ],
   "source": [
    "df_train['Age'] = df_train[['Age', 'Pclass']].apply(age_approx, axis=1)"
   ]
  },
  {
   "cell_type": "code",
   "execution_count": 43,
   "metadata": {},
   "outputs": [
    {
     "data": {
      "text/plain": [
       "Survived    0\n",
       "Pclass      0\n",
       "Sex         0\n",
       "Age         0\n",
       "SibSp       0\n",
       "Parch       0\n",
       "Fare        0\n",
       "Embarked    2\n",
       "dtype: int64"
      ]
     },
     "execution_count": 43,
     "metadata": {},
     "output_type": "execute_result"
    }
   ],
   "source": [
    "df_train.isnull().sum()"
   ]
  },
  {
   "cell_type": "code",
   "execution_count": 44,
   "metadata": {},
   "outputs": [
    {
     "data": {
      "text/plain": [
       "Survived    0\n",
       "Pclass      0\n",
       "Sex         0\n",
       "Age         0\n",
       "SibSp       0\n",
       "Parch       0\n",
       "Fare        0\n",
       "Embarked    0\n",
       "dtype: int64"
      ]
     },
     "execution_count": 44,
     "metadata": {},
     "output_type": "execute_result"
    }
   ],
   "source": [
    "df_train.dropna(inplace=True)\n",
    "df_train.isnull().sum()"
   ]
  },
  {
   "cell_type": "code",
   "execution_count": 45,
   "metadata": {},
   "outputs": [
    {
     "data": {
      "text/plain": [
       "Survived      int64\n",
       "Pclass        int64\n",
       "Sex          object\n",
       "Age         float64\n",
       "SibSp         int64\n",
       "Parch         int64\n",
       "Fare        float64\n",
       "Embarked     object\n",
       "dtype: object"
      ]
     },
     "execution_count": 45,
     "metadata": {},
     "output_type": "execute_result"
    }
   ],
   "source": [
    "df_train.dtypes"
   ]
  },
  {
   "cell_type": "code",
   "execution_count": 46,
   "metadata": {},
   "outputs": [],
   "source": [
    "df_train_dummied = pd.get_dummies(df_train, columns=['Sex'])\n",
    "df_train_dummied = pd.get_dummies(df_train_dummied, columns=['Embarked'])"
   ]
  },
  {
   "cell_type": "code",
   "execution_count": 47,
   "metadata": {},
   "outputs": [
    {
     "data": {
      "text/html": [
       "<div>\n",
       "<style scoped>\n",
       "    .dataframe tbody tr th:only-of-type {\n",
       "        vertical-align: middle;\n",
       "    }\n",
       "\n",
       "    .dataframe tbody tr th {\n",
       "        vertical-align: top;\n",
       "    }\n",
       "\n",
       "    .dataframe thead th {\n",
       "        text-align: right;\n",
       "    }\n",
       "</style>\n",
       "<table border=\"1\" class=\"dataframe\">\n",
       "  <thead>\n",
       "    <tr style=\"text-align: right;\">\n",
       "      <th></th>\n",
       "      <th>Survived</th>\n",
       "      <th>Pclass</th>\n",
       "      <th>Age</th>\n",
       "      <th>SibSp</th>\n",
       "      <th>Parch</th>\n",
       "      <th>Fare</th>\n",
       "      <th>Sex_female</th>\n",
       "      <th>Sex_male</th>\n",
       "      <th>Embarked_C</th>\n",
       "      <th>Embarked_Q</th>\n",
       "      <th>Embarked_S</th>\n",
       "    </tr>\n",
       "  </thead>\n",
       "  <tbody>\n",
       "    <tr>\n",
       "      <th>0</th>\n",
       "      <td>0</td>\n",
       "      <td>3</td>\n",
       "      <td>22.0</td>\n",
       "      <td>1</td>\n",
       "      <td>0</td>\n",
       "      <td>7.2500</td>\n",
       "      <td>False</td>\n",
       "      <td>True</td>\n",
       "      <td>False</td>\n",
       "      <td>False</td>\n",
       "      <td>True</td>\n",
       "    </tr>\n",
       "    <tr>\n",
       "      <th>1</th>\n",
       "      <td>1</td>\n",
       "      <td>1</td>\n",
       "      <td>38.0</td>\n",
       "      <td>1</td>\n",
       "      <td>0</td>\n",
       "      <td>71.2833</td>\n",
       "      <td>True</td>\n",
       "      <td>False</td>\n",
       "      <td>True</td>\n",
       "      <td>False</td>\n",
       "      <td>False</td>\n",
       "    </tr>\n",
       "    <tr>\n",
       "      <th>2</th>\n",
       "      <td>1</td>\n",
       "      <td>3</td>\n",
       "      <td>26.0</td>\n",
       "      <td>0</td>\n",
       "      <td>0</td>\n",
       "      <td>7.9250</td>\n",
       "      <td>True</td>\n",
       "      <td>False</td>\n",
       "      <td>False</td>\n",
       "      <td>False</td>\n",
       "      <td>True</td>\n",
       "    </tr>\n",
       "    <tr>\n",
       "      <th>3</th>\n",
       "      <td>1</td>\n",
       "      <td>1</td>\n",
       "      <td>35.0</td>\n",
       "      <td>1</td>\n",
       "      <td>0</td>\n",
       "      <td>53.1000</td>\n",
       "      <td>True</td>\n",
       "      <td>False</td>\n",
       "      <td>False</td>\n",
       "      <td>False</td>\n",
       "      <td>True</td>\n",
       "    </tr>\n",
       "    <tr>\n",
       "      <th>4</th>\n",
       "      <td>0</td>\n",
       "      <td>3</td>\n",
       "      <td>35.0</td>\n",
       "      <td>0</td>\n",
       "      <td>0</td>\n",
       "      <td>8.0500</td>\n",
       "      <td>False</td>\n",
       "      <td>True</td>\n",
       "      <td>False</td>\n",
       "      <td>False</td>\n",
       "      <td>True</td>\n",
       "    </tr>\n",
       "  </tbody>\n",
       "</table>\n",
       "</div>"
      ],
      "text/plain": [
       "   Survived  Pclass   Age  SibSp  Parch     Fare  Sex_female  Sex_male  \\\n",
       "0         0       3  22.0      1      0   7.2500       False      True   \n",
       "1         1       1  38.0      1      0  71.2833        True     False   \n",
       "2         1       3  26.0      0      0   7.9250        True     False   \n",
       "3         1       1  35.0      1      0  53.1000        True     False   \n",
       "4         0       3  35.0      0      0   8.0500       False      True   \n",
       "\n",
       "   Embarked_C  Embarked_Q  Embarked_S  \n",
       "0       False       False        True  \n",
       "1        True       False       False  \n",
       "2       False       False        True  \n",
       "3       False       False        True  \n",
       "4       False       False        True  "
      ]
     },
     "execution_count": 47,
     "metadata": {},
     "output_type": "execute_result"
    }
   ],
   "source": [
    "df_train_dummied.head()"
   ]
  },
  {
   "cell_type": "code",
   "execution_count": 48,
   "metadata": {},
   "outputs": [
    {
     "data": {
      "text/plain": [
       "<Axes: >"
      ]
     },
     "execution_count": 48,
     "metadata": {},
     "output_type": "execute_result"
    },
    {
     "data": {
      "image/png": "[encoded data removed]",
      "text/plain": [
       "<Figure size 600x400 with 2 Axes>"
      ]
     },
     "metadata": {},
     "output_type": "display_data"
    }
   ],
   "source": [
    "plt.figure(figsize=(6,4))\n",
    "sns.heatmap(df_train_dummied.corr())"
   ]
  },
  {
   "cell_type": "code",
   "execution_count": 49,
   "metadata": {},
   "outputs": [],
   "source": [
    "used_features =[\n",
    "    \"Pclass\",\n",
    "    \"Age\",\n",
    "    \"SibSp\",\n",
    "    \"Parch\",\n",
    "    \"Sex_female\",\n",
    "    \"Sex_male\",\n",
    "    \"Embarked_C\",\n",
    "    \"Embarked_Q\",\n",
    "    \"Embarked_S\"\n",
    "]\n",
    "\n",
    "X = df_train_dummied[used_features].values\n",
    "y = df_train_dummied['Survived']"
   ]
  },
  {
   "cell_type": "code",
   "execution_count": 50,
   "metadata": {},
   "outputs": [],
   "source": [
    "X_train,X_test,y_train,y_test = train_test_split(X, y, test_size=0.3,random_state=1)"
   ]
  },
  {
   "cell_type": "code",
   "execution_count": 51,
   "metadata": {},
   "outputs": [
    {
     "name": "stdout",
     "output_type": "stream",
     "text": [
      "(622, 9)\n",
      "(267, 9)\n",
      "(622,)\n",
      "(267,)\n"
     ]
    }
   ],
   "source": [
    "print(X_train.shape)\n",
    "print(X_test.shape)\n",
    "print(y_train.shape)\n",
    "print(y_test.shape)"
   ]
  },
  {
   "cell_type": "code",
   "execution_count": 52,
   "metadata": {},
   "outputs": [],
   "source": [
    "LogReg = LogisticRegression()"
   ]
  },
  {
   "cell_type": "code",
   "execution_count": 53,
   "metadata": {},
   "outputs": [
    {
     "name": "stderr",
     "output_type": "stream",
     "text": [
      "c:\\Users\\tvzbo\\AppData\\Local\\Programs\\Python\\Python311\\Lib\\site-packages\\sklearn\\linear_model\\_logistic.py:460: ConvergenceWarning: lbfgs failed to converge (status=1):\n",
      "STOP: TOTAL NO. of ITERATIONS REACHED LIMIT.\n",
      "\n",
      "Increase the number of iterations (max_iter) or scale the data as shown in:\n",
      "    https://scikit-learn.org/stable/modules/preprocessing.html\n",
      "Please also refer to the documentation for alternative solver options:\n",
      "    https://scikit-learn.org/stable/modules/linear_model.html#logistic-regression\n",
      "  n_iter_i = _check_optimize_result(\n"
     ]
    },
    {
     "data": {
      "text/html": [
       "<style>#sk-container-id-2 {color: black;}#sk-container-id-2 pre{padding: 0;}#sk-container-id-2 div.sk-toggleable {background-color: white;}#sk-container-id-2 label.sk-toggleable__label {cursor: pointer;display: block;width: 100%;margin-bottom: 0;padding: 0.3em;box-sizing: border-box;text-align: center;}#sk-container-id-2 label.sk-toggleable__label-arrow:before {content: \"▸\";float: left;margin-right: 0.25em;color: #696969;}#sk-container-id-2 label.sk-toggleable__label-arrow:hover:before {color: black;}#sk-container-id-2 div.sk-estimator:hover label.sk-toggleable__label-arrow:before {color: black;}#sk-container-id-2 div.sk-toggleable__content {max-height: 0;max-width: 0;overflow: hidden;text-align: left;background-color: #f0f8ff;}#sk-container-id-2 div.sk-toggleable__content pre {margin: 0.2em;color: black;border-radius: 0.25em;background-color: #f0f8ff;}#sk-container-id-2 input.sk-toggleable__control:checked~div.sk-toggleable__content {max-height: 200px;max-width: 100%;overflow: auto;}#sk-container-id-2 input.sk-toggleable__control:checked~label.sk-toggleable__label-arrow:before {content: \"▾\";}#sk-container-id-2 div.sk-estimator input.sk-toggleable__control:checked~label.sk-toggleable__label {background-color: #d4ebff;}#sk-container-id-2 div.sk-label input.sk-toggleable__control:checked~label.sk-toggleable__label {background-color: #d4ebff;}#sk-container-id-2 input.sk-hidden--visually {border: 0;clip: rect(1px 1px 1px 1px);clip: rect(1px, 1px, 1px, 1px);height: 1px;margin: -1px;overflow: hidden;padding: 0;position: absolute;width: 1px;}#sk-container-id-2 div.sk-estimator {font-family: monospace;background-color: #f0f8ff;border: 1px dotted black;border-radius: 0.25em;box-sizing: border-box;margin-bottom: 0.5em;}#sk-container-id-2 div.sk-estimator:hover {background-color: #d4ebff;}#sk-container-id-2 div.sk-parallel-item::after {content: \"\";width: 100%;border-bottom: 1px solid gray;flex-grow: 1;}#sk-container-id-2 div.sk-label:hover label.sk-toggleable__label {background-color: #d4ebff;}#sk-container-id-2 div.sk-serial::before {content: \"\";position: absolute;border-left: 1px solid gray;box-sizing: border-box;top: 0;bottom: 0;left: 50%;z-index: 0;}#sk-container-id-2 div.sk-serial {display: flex;flex-direction: column;align-items: center;background-color: white;padding-right: 0.2em;padding-left: 0.2em;position: relative;}#sk-container-id-2 div.sk-item {position: relative;z-index: 1;}#sk-container-id-2 div.sk-parallel {display: flex;align-items: stretch;justify-content: center;background-color: white;position: relative;}#sk-container-id-2 div.sk-item::before, #sk-container-id-2 div.sk-parallel-item::before {content: \"\";position: absolute;border-left: 1px solid gray;box-sizing: border-box;top: 0;bottom: 0;left: 50%;z-index: -1;}#sk-container-id-2 div.sk-parallel-item {display: flex;flex-direction: column;z-index: 1;position: relative;background-color: white;}#sk-container-id-2 div.sk-parallel-item:first-child::after {align-self: flex-end;width: 50%;}#sk-container-id-2 div.sk-parallel-item:last-child::after {align-self: flex-start;width: 50%;}#sk-container-id-2 div.sk-parallel-item:only-child::after {width: 0;}#sk-container-id-2 div.sk-dashed-wrapped {border: 1px dashed gray;margin: 0 0.4em 0.5em 0.4em;box-sizing: border-box;padding-bottom: 0.4em;background-color: white;}#sk-container-id-2 div.sk-label label {font-family: monospace;font-weight: bold;display: inline-block;line-height: 1.2em;}#sk-container-id-2 div.sk-label-container {text-align: center;}#sk-container-id-2 div.sk-container {/* jupyter's `normalize.less` sets `[hidden] { display: none; }` but bootstrap.min.css set `[hidden] { display: none !important; }` so we also need the `!important` here to be able to override the default hidden behavior on the sphinx rendered scikit-learn.org. See: https://github.com/scikit-learn/scikit-learn/issues/21755 */display: inline-block !important;position: relative;}#sk-container-id-2 div.sk-text-repr-fallback {display: none;}</style><div id=\"sk-container-id-2\" class=\"sk-top-container\"><div class=\"sk-text-repr-fallback\"><pre>LogisticRegression()</pre><b>In a Jupyter environment, please rerun this cell to show the HTML representation or trust the notebook. <br />On GitHub, the HTML representation is unable to render, please try loading this page with nbviewer.org.</b></div><div class=\"sk-container\" hidden><div class=\"sk-item\"><div class=\"sk-estimator sk-toggleable\"><input class=\"sk-toggleable__control sk-hidden--visually\" id=\"sk-estimator-id-2\" type=\"checkbox\" checked><label for=\"sk-estimator-id-2\" class=\"sk-toggleable__label sk-toggleable__label-arrow\">LogisticRegression</label><div class=\"sk-toggleable__content\"><pre>LogisticRegression()</pre></div></div></div></div></div>"
      ],
      "text/plain": [
       "LogisticRegression()"
      ]
     },
     "execution_count": 53,
     "metadata": {},
     "output_type": "execute_result"
    }
   ],
   "source": [
    "LogReg.fit(X_train, y_train)"
   ]
  },
  {
   "cell_type": "code",
   "execution_count": 54,
   "metadata": {},
   "outputs": [],
   "source": [
    "y_pred = LogReg.predict(X_test)"
   ]
  },
  {
   "cell_type": "code",
   "execution_count": 55,
   "metadata": {},
   "outputs": [
    {
     "data": {
      "text/plain": [
       "array([[143,  23],\n",
       "       [ 22,  79]], dtype=int64)"
      ]
     },
     "execution_count": 55,
     "metadata": {},
     "output_type": "execute_result"
    }
   ],
   "source": [
    "metrics.confusion_matrix(y_test, y_pred)"
   ]
  },
  {
   "cell_type": "code",
   "execution_count": 56,
   "metadata": {},
   "outputs": [
    {
     "data": {
      "text/plain": [
       "0.8314606741573034"
      ]
     },
     "execution_count": 56,
     "metadata": {},
     "output_type": "execute_result"
    }
   ],
   "source": [
    "metrics.accuracy_score(y_test, y_pred)"
   ]
  },
  {
   "cell_type": "code",
   "execution_count": 57,
   "metadata": {},
   "outputs": [
    {
     "data": {
      "text/plain": [
       "267"
      ]
     },
     "execution_count": 57,
     "metadata": {},
     "output_type": "execute_result"
    }
   ],
   "source": [
    "len(X_test)"
   ]
  },
  {
   "cell_type": "code",
   "execution_count": 58,
   "metadata": {},
   "outputs": [
    {
     "name": "stdout",
     "output_type": "stream",
     "text": [
      "              precision    recall  f1-score   support\n",
      "\n",
      "           0       0.87      0.86      0.86       166\n",
      "           1       0.77      0.78      0.78       101\n",
      "\n",
      "    accuracy                           0.83       267\n",
      "   macro avg       0.82      0.82      0.82       267\n",
      "weighted avg       0.83      0.83      0.83       267\n",
      "\n"
     ]
    }
   ],
   "source": [
    "print(classification_report(y_test, y_pred))"
   ]
  },
  {
   "cell_type": "code",
   "execution_count": 59,
   "metadata": {},
   "outputs": [
    {
     "data": {
      "text/plain": [
       "array([[-1.04268091, -0.03969105, -0.24235854, -0.04534623,  1.20870894,\n",
       "        -1.19489541,  0.35139179, -0.02296476, -0.3146135 ]])"
      ]
     },
     "execution_count": 59,
     "metadata": {},
     "output_type": "execute_result"
    }
   ],
   "source": [
    "LogReg.coef_"
   ]
  },
  {
   "cell_type": "code",
   "execution_count": 60,
   "metadata": {},
   "outputs": [
    {
     "data": {
      "text/plain": [
       "array([3.64907516])"
      ]
     },
     "execution_count": 60,
     "metadata": {},
     "output_type": "execute_result"
    }
   ],
   "source": [
    "LogReg.intercept_"
   ]
  },
  {
   "cell_type": "code",
   "execution_count": 61,
   "metadata": {},
   "outputs": [
    {
     "data": {
      "text/plain": [
       "Index(['Pclass', 'Age', 'SibSp', 'Parch', 'Sex_female', 'Sex_male',\n",
       "       'Embarked_C', 'Embarked_Q', 'Embarked_S'],\n",
       "      dtype='object')"
      ]
     },
     "execution_count": 61,
     "metadata": {},
     "output_type": "execute_result"
    }
   ],
   "source": [
    "df_train_dummied[used_features].columns"
   ]
  },
  {
   "cell_type": "code",
   "execution_count": 62,
   "metadata": {},
   "outputs": [
    {
     "data": {
      "text/plain": [
       "array([[0.26329143, 0.73670857],\n",
       "       [0.39462553, 0.60537447],\n",
       "       [0.94753149, 0.05246851],\n",
       "       [0.25507617, 0.74492383],\n",
       "       [0.94514455, 0.05485545],\n",
       "       [0.13366392, 0.86633608],\n",
       "       [0.3316595 , 0.6683405 ],\n",
       "       [0.52038877, 0.47961123],\n",
       "       [0.78328676, 0.21671324],\n",
       "       [0.40536485, 0.59463515],\n",
       "       [0.74008906, 0.25991094],\n",
       "       [0.21059411, 0.78940589],\n",
       "       [0.74966682, 0.25033318],\n",
       "       [0.14566906, 0.85433094],\n",
       "       [0.8654926 , 0.1345074 ],\n",
       "       [0.36773996, 0.63226004],\n",
       "       [0.89363436, 0.10636564],\n",
       "       [0.29521962, 0.70478038],\n",
       "       [0.17427488, 0.82572512],\n",
       "       [0.39910813, 0.60089187],\n",
       "       [0.90538893, 0.09461107],\n",
       "       [0.55407064, 0.44592936],\n",
       "       [0.86473395, 0.13526605],\n",
       "       [0.93863363, 0.06136637],\n",
       "       [0.51571927, 0.48428073],\n",
       "       [0.51335709, 0.48664291],\n",
       "       [0.03864562, 0.96135438],\n",
       "       [0.87004658, 0.12995342],\n",
       "       [0.89875073, 0.10124927],\n",
       "       [0.31990871, 0.68009129],\n",
       "       [0.38638282, 0.61361718],\n",
       "       [0.40764636, 0.59235364],\n",
       "       [0.15398541, 0.84601459],\n",
       "       [0.41891408, 0.58108592],\n",
       "       [0.59186573, 0.40813427],\n",
       "       [0.16461316, 0.83538684],\n",
       "       [0.65785124, 0.34214876],\n",
       "       [0.87446874, 0.12553126],\n",
       "       [0.24266264, 0.75733736],\n",
       "       [0.57607939, 0.42392061],\n",
       "       [0.4371401 , 0.5628599 ],\n",
       "       [0.91145013, 0.08854987],\n",
       "       [0.31757055, 0.68242945],\n",
       "       [0.87446874, 0.12553126],\n",
       "       [0.79640254, 0.20359746],\n",
       "       [0.23367142, 0.76632858],\n",
       "       [0.16863684, 0.83136316],\n",
       "       [0.81663995, 0.18336005],\n",
       "       [0.06029257, 0.93970743],\n",
       "       [0.92391272, 0.07608728],\n",
       "       [0.87446874, 0.12553126],\n",
       "       [0.42694618, 0.57305382],\n",
       "       [0.88382245, 0.11617755],\n",
       "       [0.09031802, 0.90968198],\n",
       "       [0.74966682, 0.25033318],\n",
       "       [0.07030979, 0.92969021],\n",
       "       [0.77826779, 0.22173221],\n",
       "       [0.95282275, 0.04717725],\n",
       "       [0.70238684, 0.29761316],\n",
       "       [0.93781761, 0.06218239],\n",
       "       [0.81503027, 0.18496973],\n",
       "       [0.86080457, 0.13919543],\n",
       "       [0.59186573, 0.40813427],\n",
       "       [0.87446874, 0.12553126],\n",
       "       [0.42694618, 0.57305382],\n",
       "       [0.23544301, 0.76455699],\n",
       "       [0.87446874, 0.12553126],\n",
       "       [0.91197344, 0.08802656],\n",
       "       [0.8465409 , 0.1534591 ],\n",
       "       [0.05417809, 0.94582191],\n",
       "       [0.86612068, 0.13387932],\n",
       "       [0.05624834, 0.94375166],\n",
       "       [0.65061702, 0.34938298],\n",
       "       [0.86080457, 0.13919543],\n",
       "       [0.31200023, 0.68799977],\n",
       "       [0.13366392, 0.86633608],\n",
       "       [0.8388117 , 0.1611883 ],\n",
       "       [0.9242083 , 0.0757917 ],\n",
       "       [0.82674921, 0.17325079],\n",
       "       [0.83380251, 0.16619749],\n",
       "       [0.8388117 , 0.1611883 ],\n",
       "       [0.8654926 , 0.1345074 ],\n",
       "       [0.03864562, 0.96135438],\n",
       "       [0.05966036, 0.94033964],\n",
       "       [0.76426714, 0.23573286],\n",
       "       [0.62028469, 0.37971531],\n",
       "       [0.43303617, 0.56696383],\n",
       "       [0.42833036, 0.57166964],\n",
       "       [0.87446874, 0.12553126],\n",
       "       [0.36773996, 0.63226004],\n",
       "       [0.89836679, 0.10163321],\n",
       "       [0.31990871, 0.68009129],\n",
       "       [0.93460712, 0.06539288],\n",
       "       [0.7816071 , 0.2183929 ],\n",
       "       [0.24442918, 0.75557082],\n",
       "       [0.83979762, 0.16020238],\n",
       "       [0.22852254, 0.77147746],\n",
       "       [0.27385316, 0.72614684],\n",
       "       [0.24442918, 0.75557082],\n",
       "       [0.21302813, 0.78697187],\n",
       "       [0.85101783, 0.14898217],\n",
       "       [0.34178658, 0.65821342],\n",
       "       [0.60607204, 0.39392796],\n",
       "       [0.85598033, 0.14401967],\n",
       "       [0.85598033, 0.14401967],\n",
       "       [0.90729912, 0.09270088],\n",
       "       [0.1341894 , 0.8658106 ],\n",
       "       [0.85101783, 0.14898217],\n",
       "       [0.76775438, 0.23224562],\n",
       "       [0.81663995, 0.18336005],\n",
       "       [0.63976656, 0.36023344],\n",
       "       [0.74966682, 0.25033318],\n",
       "       [0.7816071 , 0.2183929 ],\n",
       "       [0.18455787, 0.81544213],\n",
       "       [0.35836631, 0.64163369],\n",
       "       [0.0851191 , 0.9148809 ],\n",
       "       [0.91727023, 0.08272977],\n",
       "       [0.40536485, 0.59463515],\n",
       "       [0.06309585, 0.93690415],\n",
       "       [0.79166359, 0.20833641],\n",
       "       [0.87876139, 0.12123861],\n",
       "       [0.20544325, 0.79455675],\n",
       "       [0.31990871, 0.68009129],\n",
       "       [0.50361597, 0.49638403],\n",
       "       [0.20631125, 0.79368875],\n",
       "       [0.89280049, 0.10719951],\n",
       "       [0.44570814, 0.55429186],\n",
       "       [0.91138406, 0.08861594],\n",
       "       [0.8829269 , 0.1170731 ],\n",
       "       [0.57685579, 0.42314421],\n",
       "       [0.4451753 , 0.5548247 ],\n",
       "       [0.60607204, 0.39392796],\n",
       "       [0.88099962, 0.11900038],\n",
       "       [0.59186573, 0.40813427],\n",
       "       [0.36773996, 0.63226004],\n",
       "       [0.07021553, 0.92978447],\n",
       "       [0.86080457, 0.13919543],\n",
       "       [0.9266564 , 0.0733436 ],\n",
       "       [0.87446874, 0.12553126],\n",
       "       [0.89088626, 0.10911374],\n",
       "       [0.8595159 , 0.1404841 ],\n",
       "       [0.31290513, 0.68709487],\n",
       "       [0.92391272, 0.07608728],\n",
       "       [0.38738198, 0.61261802],\n",
       "       [0.59186573, 0.40813427],\n",
       "       [0.69255853, 0.30744147],\n",
       "       [0.17926994, 0.82073006],\n",
       "       [0.10559042, 0.89440958],\n",
       "       [0.07809456, 0.92190544],\n",
       "       [0.92904917, 0.07095083],\n",
       "       [0.85704864, 0.14295136],\n",
       "       [0.93674232, 0.06325768],\n",
       "       [0.14066265, 0.85933735],\n",
       "       [0.85101783, 0.14898217],\n",
       "       [0.37923961, 0.62076039],\n",
       "       [0.36773996, 0.63226004],\n",
       "       [0.78989106, 0.21010894],\n",
       "       [0.37332524, 0.62667476],\n",
       "       [0.89088626, 0.10911374],\n",
       "       [0.87446874, 0.12553126],\n",
       "       [0.50361597, 0.49638403],\n",
       "       [0.77134285, 0.22865715],\n",
       "       [0.57685579, 0.42314421],\n",
       "       [0.86895739, 0.13104261],\n",
       "       [0.87328796, 0.12671204],\n",
       "       [0.83528184, 0.16471816],\n",
       "       [0.13467954, 0.86532046],\n",
       "       [0.05856279, 0.94143721],\n",
       "       [0.77971817, 0.22028183],\n",
       "       [0.23646252, 0.76353748],\n",
       "       [0.85101783, 0.14898217],\n",
       "       [0.90090915, 0.09909085],\n",
       "       [0.8388117 , 0.1611883 ],\n",
       "       [0.87446874, 0.12553126],\n",
       "       [0.68115239, 0.31884761],\n",
       "       [0.29117433, 0.70882567],\n",
       "       [0.8654926 , 0.1345074 ],\n",
       "       [0.71061665, 0.28938335],\n",
       "       [0.87446874, 0.12553126],\n",
       "       [0.85101783, 0.14898217],\n",
       "       [0.8388117 , 0.1611883 ],\n",
       "       [0.87446874, 0.12553126],\n",
       "       [0.6524629 , 0.3475371 ],\n",
       "       [0.93328705, 0.06671295],\n",
       "       [0.31990871, 0.68009129],\n",
       "       [0.82735811, 0.17264189],\n",
       "       [0.37476397, 0.62523603],\n",
       "       [0.58224412, 0.41775588],\n",
       "       [0.22550175, 0.77449825],\n",
       "       [0.90538893, 0.09461107],\n",
       "       [0.75584367, 0.24415633],\n",
       "       [0.71739381, 0.28260619],\n",
       "       [0.8654926 , 0.1345074 ],\n",
       "       [0.76502519, 0.23497481],\n",
       "       [0.93732451, 0.06267549],\n",
       "       [0.74765087, 0.25234913],\n",
       "       [0.90053248, 0.09946752],\n",
       "       [0.28656073, 0.71343927],\n",
       "       [0.59186573, 0.40813427],\n",
       "       [0.06564057, 0.93435943],\n",
       "       [0.69901028, 0.30098972],\n",
       "       [0.18164775, 0.81835225],\n",
       "       [0.78107962, 0.21892038],\n",
       "       [0.54802263, 0.45197737],\n",
       "       [0.04692056, 0.95307944],\n",
       "       [0.89088626, 0.10911374],\n",
       "       [0.87663111, 0.12336889],\n",
       "       [0.31916868, 0.68083132],\n",
       "       [0.81056202, 0.18943798],\n",
       "       [0.08710957, 0.91289043],\n",
       "       [0.8388117 , 0.1611883 ],\n",
       "       [0.74214458, 0.25785542],\n",
       "       [0.7816071 , 0.2183929 ],\n",
       "       [0.76775438, 0.23224562],\n",
       "       [0.30872365, 0.69127635],\n",
       "       [0.19361533, 0.80638467],\n",
       "       [0.75704145, 0.24295855],\n",
       "       [0.19213311, 0.80786689],\n",
       "       [0.91510808, 0.08489192],\n",
       "       [0.69264143, 0.30735857],\n",
       "       [0.86895739, 0.13104261],\n",
       "       [0.49844845, 0.50155155],\n",
       "       [0.67010681, 0.32989319],\n",
       "       [0.219758  , 0.780242  ],\n",
       "       [0.24162486, 0.75837514],\n",
       "       [0.8654926 , 0.1345074 ],\n",
       "       [0.57758867, 0.42241133],\n",
       "       [0.8388117 , 0.1611883 ],\n",
       "       [0.7883065 , 0.2116935 ],\n",
       "       [0.7507266 , 0.2492734 ],\n",
       "       [0.37476397, 0.62523603],\n",
       "       [0.29189684, 0.70810316],\n",
       "       [0.46767226, 0.53232774],\n",
       "       [0.8388117 , 0.1611883 ],\n",
       "       [0.89836679, 0.10163321],\n",
       "       [0.89129505, 0.10870495],\n",
       "       [0.87446874, 0.12553126],\n",
       "       [0.80039311, 0.19960689],\n",
       "       [0.35667473, 0.64332527],\n",
       "       [0.87876139, 0.12123861],\n",
       "       [0.29521962, 0.70478038],\n",
       "       [0.8388117 , 0.1611883 ],\n",
       "       [0.85101783, 0.14898217],\n",
       "       [0.67103731, 0.32896269],\n",
       "       [0.51582183, 0.48417817],\n",
       "       [0.0962177 , 0.9037823 ],\n",
       "       [0.13273122, 0.86726878],\n",
       "       [0.79776511, 0.20223489],\n",
       "       [0.69174397, 0.30825603],\n",
       "       [0.8749304 , 0.1250696 ],\n",
       "       [0.23993017, 0.76006983],\n",
       "       [0.31990871, 0.68009129],\n",
       "       [0.3958346 , 0.6041654 ],\n",
       "       [0.94159804, 0.05840196],\n",
       "       [0.10800309, 0.89199691],\n",
       "       [0.22384319, 0.77615681],\n",
       "       [0.8829269 , 0.1170731 ],\n",
       "       [0.90538893, 0.09461107],\n",
       "       [0.03906802, 0.96093198],\n",
       "       [0.7816071 , 0.2183929 ],\n",
       "       [0.20002304, 0.79997696],\n",
       "       [0.87294477, 0.12705523],\n",
       "       [0.65912298, 0.34087702],\n",
       "       [0.87446874, 0.12553126],\n",
       "       [0.29189684, 0.70810316],\n",
       "       [0.8388117 , 0.1611883 ],\n",
       "       [0.91321162, 0.08678838]])"
      ]
     },
     "execution_count": 62,
     "metadata": {},
     "output_type": "execute_result"
    }
   ],
   "source": [
    "LogReg.predict_proba(X_test)"
   ]
  },
  {
   "cell_type": "code",
   "execution_count": null,
   "metadata": {},
   "outputs": [],
   "source": []
  }
 ],
 "metadata": {
  "kernelspec": {
   "display_name": "Python 3",
   "language": "python",
   "name": "python3"
  },
  "language_info": {
   "codemirror_mode": {
    "name": "ipython",
    "version": 3
   },
   "file_extension": ".py",
   "mimetype": "text/x-python",
   "name": "python",
   "nbconvert_exporter": "python",
   "pygments_lexer": "ipython3",
   "version": "3.11.3"
  }
 },
 "nbformat": 4,
 "nbformat_minor": 2
}
